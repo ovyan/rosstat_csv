{
 "cells": [
  {
   "cell_type": "code",
   "execution_count": 2,
   "metadata": {
    "ExecuteTime": {
     "end_time": "2020-03-05T15:59:41.734806Z",
     "start_time": "2020-03-05T15:59:40.311007Z"
    }
   },
   "outputs": [],
   "source": [
    "import pandas as pd"
   ]
  },
  {
   "cell_type": "code",
   "execution_count": 191,
   "metadata": {
    "ExecuteTime": {
     "end_time": "2020-02-25T19:01:58.814218Z",
     "start_time": "2020-02-25T19:01:58.801617Z"
    }
   },
   "outputs": [],
   "source": [
    "def type_cmp(row):\n",
    "    if row['2'] in dick:\n",
    "        return dick[row['2']]\n",
    "    else:\n",
    "        return 'other'\n",
    "    \n",
    "    \n",
    "dick = {47: 'OAO/AO', 12247: 'OAO/AO',12000 : 'OOO',50102 : 'OOO',65000 : 'OOO',40000 : 'OOO',13000 : 'OOO',60000 : 'OOO',29000 : 'OOO',11000 : 'OOO',11064 : 'OOO',65 : 'OOO',64 : 'OOO',12165 : 'OOO',12166 : 'OOO',39 : 'OOO',19000 : 'OOO',91 : 'OOO',12300 : 'OOO',10000 : 'OOO',61 : 'OOO',12100 : 'OOO',48 : 'OOO',\n",
    "       67: 'ZAO', 12267 : 'ZAO', 12200 : 'OAO/AO'}"
   ]
  },
  {
   "cell_type": "code",
   "execution_count": 231,
   "metadata": {
    "ExecuteTime": {
     "end_time": "2020-02-25T19:06:17.163240Z",
     "start_time": "2020-02-25T19:06:16.933185Z"
    }
   },
   "outputs": [],
   "source": [
    "df = pd.read_csv('../Rosstat_46.71_without_prev/rosstat_2018_without_prev.csv')"
   ]
  },
  {
   "cell_type": "code",
   "execution_count": 232,
   "metadata": {
    "ExecuteTime": {
     "end_time": "2020-02-25T19:06:18.123223Z",
     "start_time": "2020-02-25T19:06:17.639656Z"
    }
   },
   "outputs": [],
   "source": [
    "df['type'] = df.apply(type_cmp, axis=1)\n",
    "df_with_dummies = pd.get_dummies(df, prefix='type', columns=['type'])\n",
    "df_with_dummies.drop('2', axis=1, inplace=True)\n"
   ]
  },
  {
   "cell_type": "code",
   "execution_count": 233,
   "metadata": {
    "ExecuteTime": {
     "end_time": "2020-02-25T19:06:22.184095Z",
     "start_time": "2020-02-25T19:06:19.745738Z"
    }
   },
   "outputs": [],
   "source": [
    "df_with_dummies.to_csv('rosstat_2018_without_prev_modified.csv')"
   ]
  },
  {
   "cell_type": "code",
   "execution_count": 4,
   "metadata": {
    "ExecuteTime": {
     "end_time": "2020-03-05T16:00:19.134850Z",
     "start_time": "2020-03-05T16:00:18.896199Z"
    }
   },
   "outputs": [],
   "source": [
    "df = pd.read_csv('Rosstat_46.71_without_prev_modified/rosstat_2018_without_prev_modified.csv')"
   ]
  },
  {
   "cell_type": "code",
   "execution_count": 5,
   "metadata": {
    "ExecuteTime": {
     "end_time": "2020-03-05T16:00:26.289291Z",
     "start_time": "2020-03-05T16:00:26.255890Z"
    }
   },
   "outputs": [
    {
     "data": {
      "text/html": [
       "<div>\n",
       "<style scoped>\n",
       "    .dataframe tbody tr th:only-of-type {\n",
       "        vertical-align: middle;\n",
       "    }\n",
       "\n",
       "    .dataframe tbody tr th {\n",
       "        vertical-align: top;\n",
       "    }\n",
       "\n",
       "    .dataframe thead th {\n",
       "        text-align: right;\n",
       "    }\n",
       "</style>\n",
       "<table border=\"1\" class=\"dataframe\">\n",
       "  <thead>\n",
       "    <tr style=\"text-align: right;\">\n",
       "      <th></th>\n",
       "      <th>Unnamed: 0</th>\n",
       "      <th>Unnamed: 0.1</th>\n",
       "      <th>0</th>\n",
       "      <th>1</th>\n",
       "      <th>3</th>\n",
       "      <th>4</th>\n",
       "      <th>5</th>\n",
       "      <th>6</th>\n",
       "      <th>7</th>\n",
       "      <th>8</th>\n",
       "      <th>...</th>\n",
       "      <th>260</th>\n",
       "      <th>261</th>\n",
       "      <th>262</th>\n",
       "      <th>263</th>\n",
       "      <th>264</th>\n",
       "      <th>265</th>\n",
       "      <th>type_OAO/AO</th>\n",
       "      <th>type_OOO</th>\n",
       "      <th>type_ZAO</th>\n",
       "      <th>type_other</th>\n",
       "    </tr>\n",
       "  </thead>\n",
       "  <tbody>\n",
       "    <tr>\n",
       "      <th>0</th>\n",
       "      <td>0</td>\n",
       "      <td>0</td>\n",
       "      <td>ОБЩЕСТВО С ОГРАНИЧЕННОЙ ОТВЕТСТВЕННОСТЬЮ \"АСК\"</td>\n",
       "      <td>48449</td>\n",
       "      <td>16</td>\n",
       "      <td>46.71</td>\n",
       "      <td>2221225768</td>\n",
       "      <td>384</td>\n",
       "      <td>1</td>\n",
       "      <td>0</td>\n",
       "      <td>...</td>\n",
       "      <td>0</td>\n",
       "      <td>0</td>\n",
       "      <td>0</td>\n",
       "      <td>0</td>\n",
       "      <td>0</td>\n",
       "      <td>20190722</td>\n",
       "      <td>0</td>\n",
       "      <td>1</td>\n",
       "      <td>0</td>\n",
       "      <td>0</td>\n",
       "    </tr>\n",
       "    <tr>\n",
       "      <th>1</th>\n",
       "      <td>1</td>\n",
       "      <td>1</td>\n",
       "      <td>ОБЩЕСТВО С ОГРАНИЧЕННОЙ ОТВЕТСТВЕННОСТЬЮ \"АОРТА\"</td>\n",
       "      <td>531068</td>\n",
       "      <td>16</td>\n",
       "      <td>46.71</td>\n",
       "      <td>2222857953</td>\n",
       "      <td>384</td>\n",
       "      <td>1</td>\n",
       "      <td>0</td>\n",
       "      <td>...</td>\n",
       "      <td>0</td>\n",
       "      <td>0</td>\n",
       "      <td>0</td>\n",
       "      <td>0</td>\n",
       "      <td>0</td>\n",
       "      <td>20190722</td>\n",
       "      <td>0</td>\n",
       "      <td>1</td>\n",
       "      <td>0</td>\n",
       "      <td>0</td>\n",
       "    </tr>\n",
       "    <tr>\n",
       "      <th>2</th>\n",
       "      <td>2</td>\n",
       "      <td>2</td>\n",
       "      <td>ОБЩЕСТВО С ОГРАНИЧЕННОЙ ОТВЕТСТВЕННОСТЬЮ \"ОСНОВА\"</td>\n",
       "      <td>531217</td>\n",
       "      <td>16</td>\n",
       "      <td>46.71</td>\n",
       "      <td>2249012576</td>\n",
       "      <td>384</td>\n",
       "      <td>1</td>\n",
       "      <td>0</td>\n",
       "      <td>...</td>\n",
       "      <td>0</td>\n",
       "      <td>0</td>\n",
       "      <td>0</td>\n",
       "      <td>0</td>\n",
       "      <td>0</td>\n",
       "      <td>20190722</td>\n",
       "      <td>0</td>\n",
       "      <td>1</td>\n",
       "      <td>0</td>\n",
       "      <td>0</td>\n",
       "    </tr>\n",
       "    <tr>\n",
       "      <th>3</th>\n",
       "      <td>3</td>\n",
       "      <td>3</td>\n",
       "      <td>ОБЩЕСТВО С ОГРАНИЧЕННОЙ ОТВЕТСТВЕННОСТЬЮ ТК \"С...</td>\n",
       "      <td>576415</td>\n",
       "      <td>16</td>\n",
       "      <td>46.71</td>\n",
       "      <td>2222845595</td>\n",
       "      <td>384</td>\n",
       "      <td>1</td>\n",
       "      <td>0</td>\n",
       "      <td>...</td>\n",
       "      <td>0</td>\n",
       "      <td>0</td>\n",
       "      <td>0</td>\n",
       "      <td>0</td>\n",
       "      <td>0</td>\n",
       "      <td>20190722</td>\n",
       "      <td>0</td>\n",
       "      <td>1</td>\n",
       "      <td>0</td>\n",
       "      <td>0</td>\n",
       "    </tr>\n",
       "    <tr>\n",
       "      <th>4</th>\n",
       "      <td>4</td>\n",
       "      <td>4</td>\n",
       "      <td>ОБЩЕСТВО С ОГРАНИЧЕННОЙ ОТВЕТСТВЕННОСТЬЮ \"ФАВО...</td>\n",
       "      <td>636471</td>\n",
       "      <td>16</td>\n",
       "      <td>46.71</td>\n",
       "      <td>2312240876</td>\n",
       "      <td>384</td>\n",
       "      <td>2</td>\n",
       "      <td>0</td>\n",
       "      <td>...</td>\n",
       "      <td>0</td>\n",
       "      <td>0</td>\n",
       "      <td>0</td>\n",
       "      <td>0</td>\n",
       "      <td>0</td>\n",
       "      <td>20190402</td>\n",
       "      <td>0</td>\n",
       "      <td>1</td>\n",
       "      <td>0</td>\n",
       "      <td>0</td>\n",
       "    </tr>\n",
       "  </tbody>\n",
       "</table>\n",
       "<p>5 rows × 206 columns</p>\n",
       "</div>"
      ],
      "text/plain": [
       "   Unnamed: 0  Unnamed: 0.1  \\\n",
       "0           0             0   \n",
       "1           1             1   \n",
       "2           2             2   \n",
       "3           3             3   \n",
       "4           4             4   \n",
       "\n",
       "                                                   0       1   3      4  \\\n",
       "0     ОБЩЕСТВО С ОГРАНИЧЕННОЙ ОТВЕТСТВЕННОСТЬЮ \"АСК\"   48449  16  46.71   \n",
       "1   ОБЩЕСТВО С ОГРАНИЧЕННОЙ ОТВЕТСТВЕННОСТЬЮ \"АОРТА\"  531068  16  46.71   \n",
       "2  ОБЩЕСТВО С ОГРАНИЧЕННОЙ ОТВЕТСТВЕННОСТЬЮ \"ОСНОВА\"  531217  16  46.71   \n",
       "3  ОБЩЕСТВО С ОГРАНИЧЕННОЙ ОТВЕТСТВЕННОСТЬЮ ТК \"С...  576415  16  46.71   \n",
       "4  ОБЩЕСТВО С ОГРАНИЧЕННОЙ ОТВЕТСТВЕННОСТЬЮ \"ФАВО...  636471  16  46.71   \n",
       "\n",
       "            5    6  7  8  ...  260  261  262  263  264       265  type_OAO/AO  \\\n",
       "0  2221225768  384  1  0  ...    0    0    0    0    0  20190722            0   \n",
       "1  2222857953  384  1  0  ...    0    0    0    0    0  20190722            0   \n",
       "2  2249012576  384  1  0  ...    0    0    0    0    0  20190722            0   \n",
       "3  2222845595  384  1  0  ...    0    0    0    0    0  20190722            0   \n",
       "4  2312240876  384  2  0  ...    0    0    0    0    0  20190402            0   \n",
       "\n",
       "   type_OOO  type_ZAO  type_other  \n",
       "0         1         0           0  \n",
       "1         1         0           0  \n",
       "2         1         0           0  \n",
       "3         1         0           0  \n",
       "4         1         0           0  \n",
       "\n",
       "[5 rows x 206 columns]"
      ]
     },
     "execution_count": 5,
     "metadata": {},
     "output_type": "execute_result"
    }
   ],
   "source": [
    "df.head()"
   ]
  },
  {
   "cell_type": "code",
   "execution_count": null,
   "metadata": {},
   "outputs": [],
   "source": []
  }
 ],
 "metadata": {
  "kernelspec": {
   "display_name": "Python 3",
   "language": "python",
   "name": "python3"
  },
  "language_info": {
   "codemirror_mode": {
    "name": "ipython",
    "version": 3
   },
   "file_extension": ".py",
   "mimetype": "text/x-python",
   "name": "python",
   "nbconvert_exporter": "python",
   "pygments_lexer": "ipython3",
   "version": "3.7.3"
  },
  "varInspector": {
   "cols": {
    "lenName": 16,
    "lenType": 16,
    "lenVar": 40
   },
   "kernels_config": {
    "python": {
     "delete_cmd_postfix": "",
     "delete_cmd_prefix": "del ",
     "library": "var_list.py",
     "varRefreshCmd": "print(var_dic_list())"
    },
    "r": {
     "delete_cmd_postfix": ") ",
     "delete_cmd_prefix": "rm(",
     "library": "var_list.r",
     "varRefreshCmd": "cat(var_dic_list()) "
    }
   },
   "types_to_exclude": [
    "module",
    "function",
    "builtin_function_or_method",
    "instance",
    "_Feature"
   ],
   "window_display": false
  }
 },
 "nbformat": 4,
 "nbformat_minor": 2
}
