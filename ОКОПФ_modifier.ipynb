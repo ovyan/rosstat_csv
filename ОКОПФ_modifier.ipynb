{
 "cells": [
  {
   "cell_type": "code",
   "execution_count": 2,
   "metadata": {
    "ExecuteTime": {
     "end_time": "2020-02-24T19:17:47.926232Z",
     "start_time": "2020-02-24T19:17:46.761629Z"
    }
   },
   "outputs": [],
   "source": [
    "import pandas as pd"
   ]
  },
  {
   "cell_type": "code",
   "execution_count": 191,
   "metadata": {
    "ExecuteTime": {
     "end_time": "2020-02-25T19:01:58.814218Z",
     "start_time": "2020-02-25T19:01:58.801617Z"
    }
   },
   "outputs": [],
   "source": [
    "def type_cmp(row):\n",
    "    if row['2'] in dick:\n",
    "        return dick[row['2']]\n",
    "    else:\n",
    "        return 'other'\n",
    "    \n",
    "    \n",
    "dick = {47: 'OAO/AO', 12247: 'OAO/AO',12000 : 'OOO',50102 : 'OOO',65000 : 'OOO',40000 : 'OOO',13000 : 'OOO',60000 : 'OOO',29000 : 'OOO',11000 : 'OOO',11064 : 'OOO',65 : 'OOO',64 : 'OOO',12165 : 'OOO',12166 : 'OOO',39 : 'OOO',19000 : 'OOO',91 : 'OOO',12300 : 'OOO',10000 : 'OOO',61 : 'OOO',12100 : 'OOO',48 : 'OOO',\n",
    "       67: 'ZAO', 12267 : 'ZAO', 12200 : 'OAO/AO'}"
   ]
  },
  {
   "cell_type": "code",
   "execution_count": 231,
   "metadata": {
    "ExecuteTime": {
     "end_time": "2020-02-25T19:06:17.163240Z",
     "start_time": "2020-02-25T19:06:16.933185Z"
    }
   },
   "outputs": [],
   "source": [
    "df = pd.read_csv('../Rosstat_46.71_without_prev/rosstat_2018_without_prev.csv')"
   ]
  },
  {
   "cell_type": "code",
   "execution_count": 232,
   "metadata": {
    "ExecuteTime": {
     "end_time": "2020-02-25T19:06:18.123223Z",
     "start_time": "2020-02-25T19:06:17.639656Z"
    }
   },
   "outputs": [],
   "source": [
    "df['type'] = df.apply(type_cmp, axis=1)\n",
    "df_with_dummies = pd.get_dummies(df, prefix='type', columns=['type'])\n",
    "df_with_dummies.drop('2', axis=1, inplace=True)\n"
   ]
  },
  {
   "cell_type": "code",
   "execution_count": 233,
   "metadata": {
    "ExecuteTime": {
     "end_time": "2020-02-25T19:06:22.184095Z",
     "start_time": "2020-02-25T19:06:19.745738Z"
    }
   },
   "outputs": [],
   "source": [
    "df_with_dummies.to_csv('rosstat_2018_without_prev_modified.csv')"
   ]
  },
  {
   "cell_type": "code",
   "execution_count": null,
   "metadata": {},
   "outputs": [],
   "source": []
  }
 ],
 "metadata": {
  "kernelspec": {
   "display_name": "Python 3",
   "language": "python",
   "name": "python3"
  },
  "language_info": {
   "codemirror_mode": {
    "name": "ipython",
    "version": 3
   },
   "file_extension": ".py",
   "mimetype": "text/x-python",
   "name": "python",
   "nbconvert_exporter": "python",
   "pygments_lexer": "ipython3",
   "version": "3.7.3"
  },
  "varInspector": {
   "cols": {
    "lenName": 16,
    "lenType": 16,
    "lenVar": 40
   },
   "kernels_config": {
    "python": {
     "delete_cmd_postfix": "",
     "delete_cmd_prefix": "del ",
     "library": "var_list.py",
     "varRefreshCmd": "print(var_dic_list())"
    },
    "r": {
     "delete_cmd_postfix": ") ",
     "delete_cmd_prefix": "rm(",
     "library": "var_list.r",
     "varRefreshCmd": "cat(var_dic_list()) "
    }
   },
   "types_to_exclude": [
    "module",
    "function",
    "builtin_function_or_method",
    "instance",
    "_Feature"
   ],
   "window_display": false
  }
 },
 "nbformat": 4,
 "nbformat_minor": 2
}
